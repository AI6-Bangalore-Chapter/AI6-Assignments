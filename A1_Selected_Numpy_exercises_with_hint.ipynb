{
  "nbformat": 4,
  "nbformat_minor": 0,
  "metadata": {
    "colab": {
      "name": "Copy of 100_Numpy_exercises_with_hint.ipynb",
      "version": "0.3.2",
      "provenance": []
    },
    "kernelspec": {
      "display_name": "Python 3",
      "language": "python",
      "name": "python3"
    }
  },
  "cells": [
    {
      "metadata": {
        "id": "2we-HYfZPCHX",
        "colab_type": "text"
      },
      "cell_type": "markdown",
      "source": [
        "# Selected - 100 numpy exercises with hint\n",
        "\n",
        "This is a collection of exercises that have been collected in the numpy mailing list, on stack overflow and in the numpy documentation. The goal of this collection is to offer a quick reference for both old and new users but also to provide a set of exercises for those who teach.\n",
        "\n",
        "\n",
        "If you find an error or think you've a better way to solve some of them, feel free to open an issue at <https://github.com/rougier/numpy-100>"
      ]
    },
    {
      "metadata": {
        "id": "iDCsaWZHPCHc",
        "colab_type": "text"
      },
      "cell_type": "markdown",
      "source": [
        "#### 1. Import the numpy package under the name `np` (★☆☆) \n",
        "(**hint**: import … as …)"
      ]
    },
    {
      "metadata": {
        "id": "F_6XVYZOPCHe",
        "colab_type": "code",
        "colab": {}
      },
      "cell_type": "code",
      "source": [
        "import numpy as np"
      ],
      "execution_count": 0,
      "outputs": []
    },
    {
      "metadata": {
        "id": "pwDAwMwaPCHo",
        "colab_type": "text"
      },
      "cell_type": "markdown",
      "source": [
        "#### 2. Print the numpy version and the configuration (★☆☆) \n",
        "(**hint**: np.\\_\\_version\\_\\_, np.show\\_config)"
      ]
    },
    {
      "metadata": {
        "id": "ddy1Ui9EPCIQ",
        "colab_type": "code",
        "colab": {
          "base_uri": "https://localhost:8080/",
          "height": 35
        },
        "outputId": "01237cdb-466a-4b6f-9c05-a57b5e29b6d2"
      },
      "cell_type": "code",
      "source": [
        "np.__version__"
      ],
      "execution_count": 4,
      "outputs": [
        {
          "output_type": "execute_result",
          "data": {
            "text/plain": [
              "'1.14.5'"
            ]
          },
          "metadata": {
            "tags": []
          },
          "execution_count": 4
        }
      ]
    },
    {
      "metadata": {
        "id": "8H_kAvkdPCId",
        "colab_type": "text"
      },
      "cell_type": "markdown",
      "source": [
        "#### 3. Create a null vector of size 10 (★☆☆) \n",
        "(**hint**: np.zeros)"
      ]
    },
    {
      "metadata": {
        "id": "Sxo0oBiFPCIe",
        "colab_type": "code",
        "colab": {
          "base_uri": "https://localhost:8080/",
          "height": 35
        },
        "outputId": "2700f012-eed1-49c9-c3ae-bce1b98a0a6b"
      },
      "cell_type": "code",
      "source": [
        "v = np.zeros(10)\n",
        "v"
      ],
      "execution_count": 6,
      "outputs": [
        {
          "output_type": "execute_result",
          "data": {
            "text/plain": [
              "array([0., 0., 0., 0., 0., 0., 0., 0., 0., 0.])"
            ]
          },
          "metadata": {
            "tags": []
          },
          "execution_count": 6
        }
      ]
    },
    {
      "metadata": {
        "id": "szV4ipPhPCIj",
        "colab_type": "text"
      },
      "cell_type": "markdown",
      "source": [
        "#### 4.  How to find the memory size of any array (★☆☆) \n",
        "(**hint**: size, itemsize)"
      ]
    },
    {
      "metadata": {
        "id": "gVuUxrWzPCIl",
        "colab_type": "code",
        "colab": {
          "base_uri": "https://localhost:8080/",
          "height": 35
        },
        "outputId": "8e24d613-4047-449d-f407-84ee3cf565b7"
      },
      "cell_type": "code",
      "source": [
        "np.size(v)"
      ],
      "execution_count": 7,
      "outputs": [
        {
          "output_type": "execute_result",
          "data": {
            "text/plain": [
              "10"
            ]
          },
          "metadata": {
            "tags": []
          },
          "execution_count": 7
        }
      ]
    },
    {
      "metadata": {
        "id": "T-2Xp4ELPCIo",
        "colab_type": "text"
      },
      "cell_type": "markdown",
      "source": [
        "#### 5.  How to get the documentation of the numpy add function from the command line? (★☆☆) \n",
        "(**hint**: np.info)"
      ]
    },
    {
      "metadata": {
        "id": "w0jIMPM8PCIq",
        "colab_type": "code",
        "colab": {
          "base_uri": "https://localhost:8080/",
          "height": 773
        },
        "outputId": "9ee4e903-0cac-4a40-f7c5-783ad3c8facb"
      },
      "cell_type": "code",
      "source": [
        "np.info(np.add)"
      ],
      "execution_count": 9,
      "outputs": [
        {
          "output_type": "stream",
          "text": [
            "add(x1, x2, /, out=None, *, where=True, casting='same_kind', order='K', dtype=None, subok=True[, signature, extobj])\n",
            "\n",
            "Add arguments element-wise.\n",
            "\n",
            "Parameters\n",
            "----------\n",
            "x1, x2 : array_like\n",
            "    The arrays to be added.  If ``x1.shape != x2.shape``, they must be\n",
            "    broadcastable to a common shape (which may be the shape of one or\n",
            "    the other).\n",
            "out : ndarray, None, or tuple of ndarray and None, optional\n",
            "    A location into which the result is stored. If provided, it must have\n",
            "    a shape that the inputs broadcast to. If not provided or `None`,\n",
            "    a freshly-allocated array is returned. A tuple (possible only as a\n",
            "    keyword argument) must have length equal to the number of outputs.\n",
            "where : array_like, optional\n",
            "    Values of True indicate to calculate the ufunc at that position, values\n",
            "    of False indicate to leave the value in the output alone.\n",
            "**kwargs\n",
            "    For other keyword-only arguments, see the\n",
            "    :ref:`ufunc docs <ufuncs.kwargs>`.\n",
            "\n",
            "Returns\n",
            "-------\n",
            "add : ndarray or scalar\n",
            "    The sum of `x1` and `x2`, element-wise.  Returns a scalar if\n",
            "    both  `x1` and `x2` are scalars.\n",
            "\n",
            "Notes\n",
            "-----\n",
            "Equivalent to `x1` + `x2` in terms of array broadcasting.\n",
            "\n",
            "Examples\n",
            "--------\n",
            ">>> np.add(1.0, 4.0)\n",
            "5.0\n",
            ">>> x1 = np.arange(9.0).reshape((3, 3))\n",
            ">>> x2 = np.arange(3.0)\n",
            ">>> np.add(x1, x2)\n",
            "array([[  0.,   2.,   4.],\n",
            "       [  3.,   5.,   7.],\n",
            "       [  6.,   8.,  10.]])\n"
          ],
          "name": "stdout"
        }
      ]
    },
    {
      "metadata": {
        "id": "O-67WxJePCIt",
        "colab_type": "text"
      },
      "cell_type": "markdown",
      "source": [
        "#### 6.  Create a null vector of size 10 but the fifth value which is 1 (★☆☆) \n",
        "(**hint**: array\\[4\\])"
      ]
    },
    {
      "metadata": {
        "id": "cvYNJqm0PCIv",
        "colab_type": "code",
        "colab": {}
      },
      "cell_type": "code",
      "source": [
        ""
      ],
      "execution_count": 0,
      "outputs": []
    },
    {
      "metadata": {
        "id": "N1_uxVOtPCI8",
        "colab_type": "text"
      },
      "cell_type": "markdown",
      "source": [
        "#### 7.  Create a vector with values ranging from 10 to 49 (★☆☆) \n",
        "(**hint**: np.arange)"
      ]
    },
    {
      "metadata": {
        "id": "jsbzV6QRPCI-",
        "colab_type": "code",
        "colab": {}
      },
      "cell_type": "code",
      "source": [
        ""
      ],
      "execution_count": 0,
      "outputs": []
    },
    {
      "metadata": {
        "id": "X0kassgqPCJG",
        "colab_type": "text"
      },
      "cell_type": "markdown",
      "source": [
        "#### 8.  Reverse a vector (first element becomes last) (★☆☆) \n",
        "(**hint**: array\\[::-1\\])"
      ]
    },
    {
      "metadata": {
        "id": "s1n-tggCPCJJ",
        "colab_type": "code",
        "colab": {
          "base_uri": "https://localhost:8080/",
          "height": 35
        },
        "outputId": "cb41fb25-5538-4699-beab-c86602482e06"
      },
      "cell_type": "code",
      "source": [
        "vr = v[::-1]\n",
        "vr"
      ],
      "execution_count": 10,
      "outputs": [
        {
          "output_type": "execute_result",
          "data": {
            "text/plain": [
              "array([0., 0., 0., 0., 0., 0., 0., 0., 0., 0.])"
            ]
          },
          "metadata": {
            "tags": []
          },
          "execution_count": 10
        }
      ]
    },
    {
      "metadata": {
        "id": "rKUEFo5XPCJR",
        "colab_type": "text"
      },
      "cell_type": "markdown",
      "source": [
        "#### 9.  Create a 3x3 matrix with values ranging from 0 to 8 (★☆☆) \n",
        "(**hint**: reshape)"
      ]
    },
    {
      "metadata": {
        "id": "-3YIwOGcPCJT",
        "colab_type": "code",
        "colab": {}
      },
      "cell_type": "code",
      "source": [
        ""
      ],
      "execution_count": 0,
      "outputs": []
    },
    {
      "metadata": {
        "id": "IdniJ-UCPCJb",
        "colab_type": "text"
      },
      "cell_type": "markdown",
      "source": [
        "#### 10. Find indices of non-zero elements from \\[1,2,0,0,4,0\\] (★☆☆) \n",
        "(**hint**: np.nonzero)"
      ]
    },
    {
      "metadata": {
        "id": "N_1OhVxnPCJd",
        "colab_type": "code",
        "colab": {}
      },
      "cell_type": "code",
      "source": [
        ""
      ],
      "execution_count": 0,
      "outputs": []
    },
    {
      "metadata": {
        "id": "4P5T4vcxPCKN",
        "colab_type": "text"
      },
      "cell_type": "markdown",
      "source": [
        "#### 11. Create a 3x3 identity matrix (★☆☆) \n",
        "(**hint**: np.eye)"
      ]
    },
    {
      "metadata": {
        "id": "6IdPvmUlPCKR",
        "colab_type": "code",
        "colab": {}
      },
      "cell_type": "code",
      "source": [
        ""
      ],
      "execution_count": 0,
      "outputs": []
    },
    {
      "metadata": {
        "id": "XsW7kY3oPCKc",
        "colab_type": "text"
      },
      "cell_type": "markdown",
      "source": [
        "#### 12. Create a 3x3x3 array with random values (★☆☆) \n",
        "(**hint**: np.random.random)"
      ]
    },
    {
      "metadata": {
        "id": "e-N88rXePCKc",
        "colab_type": "code",
        "colab": {}
      },
      "cell_type": "code",
      "source": [
        ""
      ],
      "execution_count": 0,
      "outputs": []
    },
    {
      "metadata": {
        "id": "sgPbh2z0PCKk",
        "colab_type": "text"
      },
      "cell_type": "markdown",
      "source": [
        "#### 13. Create a 10x10 array with random values and find the minimum and maximum values (★☆☆) \n",
        "(**hint**: min, max)"
      ]
    },
    {
      "metadata": {
        "id": "49uwUI_wPCKp",
        "colab_type": "code",
        "colab": {}
      },
      "cell_type": "code",
      "source": [
        "#mention argmax"
      ],
      "execution_count": 0,
      "outputs": []
    },
    {
      "metadata": {
        "id": "FJ4o6ECQPCK3",
        "colab_type": "text"
      },
      "cell_type": "markdown",
      "source": [
        "#### 14. Create a random vector of size 30 and find the mean value (★☆☆) \n",
        "(**hint**: mean)"
      ]
    },
    {
      "metadata": {
        "id": "bjRQi171PCK5",
        "colab_type": "code",
        "colab": {}
      },
      "cell_type": "code",
      "source": [
        "#along the axis too"
      ],
      "execution_count": 0,
      "outputs": []
    },
    {
      "metadata": {
        "id": "lBFkIXKlPCLW",
        "colab_type": "text"
      },
      "cell_type": "markdown",
      "source": [
        "#### 17. What is the result of the following expression? (★☆☆) \n",
        "(**hint**: NaN = not a number, inf = infinity)"
      ]
    },
    {
      "metadata": {
        "id": "aZaR619JPCLa",
        "colab_type": "text"
      },
      "cell_type": "markdown",
      "source": [
        "```python\n",
        "0 * np.nan\n",
        "np.nan == np.nan\n",
        "np.inf > np.nan\n",
        "np.nan - np.nan\n",
        "0.3 == 3 * 0.1\n",
        "```"
      ]
    },
    {
      "metadata": {
        "id": "WDSudzB3PCLc",
        "colab_type": "code",
        "colab": {
          "base_uri": "https://localhost:8080/",
          "height": 35
        },
        "outputId": "8614edd6-a25e-4072-adeb-96fb89cf0d7c"
      },
      "cell_type": "code",
      "source": [
        "#0 * np.nan\n",
        "#np.nan == np.nan\n",
        "#np.inf > np.nan\n",
        "#np.nan - np.nan\n",
        "#0.3 == 3.0 * 0.1"
      ],
      "execution_count": 20,
      "outputs": [
        {
          "output_type": "execute_result",
          "data": {
            "text/plain": [
              "nan"
            ]
          },
          "metadata": {
            "tags": []
          },
          "execution_count": 20
        }
      ]
    },
    {
      "metadata": {
        "id": "GTldPbzEPCMM",
        "colab_type": "text"
      },
      "cell_type": "markdown",
      "source": [
        "#### 22. Normalize a 5x5 random matrix (★☆☆) \n",
        "(**hint**: (x - min) / (max - min))"
      ]
    },
    {
      "metadata": {
        "id": "cBawSFpzPCMP",
        "colab_type": "code",
        "colab": {}
      },
      "cell_type": "code",
      "source": [
        ""
      ],
      "execution_count": 0,
      "outputs": []
    },
    {
      "metadata": {
        "id": "ZJurfOVJPCMt",
        "colab_type": "text"
      },
      "cell_type": "markdown",
      "source": [
        "#### 24. Multiply a 5x3 matrix by a 3x2 matrix (real matrix product) (★☆☆) \n",
        "(**hint**: np.dot | @)"
      ]
    },
    {
      "metadata": {
        "id": "PfkmVPvGPCM4",
        "colab_type": "code",
        "colab": {}
      },
      "cell_type": "code",
      "source": [
        ""
      ],
      "execution_count": 0,
      "outputs": []
    },
    {
      "metadata": {
        "id": "C4hxPiYiPCNA",
        "colab_type": "text"
      },
      "cell_type": "markdown",
      "source": [
        "#### 25. Given a 1D array, negate all elements which are between 3 and 8, in place. (★☆☆) \n",
        "(**hint**: >, <=)"
      ]
    },
    {
      "metadata": {
        "id": "wUgByUXEPCNB",
        "colab_type": "code",
        "colab": {
          "base_uri": "https://localhost:8080/",
          "height": 35
        },
        "outputId": "8d89f32d-f8a0-4515-e7f4-8033a16c7341"
      },
      "cell_type": "code",
      "source": [
        "v = np.arange(15)\n",
        "v\n",
        "v[(v>3) & (v<8)] *= -1\n",
        "v"
      ],
      "execution_count": 16,
      "outputs": [
        {
          "output_type": "execute_result",
          "data": {
            "text/plain": [
              "array([ 0,  1,  2,  3, -4, -5, -6, -7,  8,  9, 10, 11, 12, 13, 14])"
            ]
          },
          "metadata": {
            "tags": []
          },
          "execution_count": 16
        }
      ]
    },
    {
      "metadata": {
        "id": "2OebRkkZPCQC",
        "colab_type": "text"
      },
      "cell_type": "markdown",
      "source": [
        "#### 35. How to compute ((A+B)\\*(-A/2)) in place (without copy)? (★★☆) \n",
        "(**hint**: np.add(out=), np.negative(out=), np.multiply(out=), np.divide(out=))"
      ]
    },
    {
      "metadata": {
        "id": "hK2kVrUyPCQD",
        "colab_type": "code",
        "colab": {}
      },
      "cell_type": "code",
      "source": [
        "np.multiply(np.add(a,b),np.divide(np.multiply(a,-1),2))"
      ],
      "execution_count": 0,
      "outputs": []
    },
    {
      "metadata": {
        "id": "d1H-VymfPCQR",
        "colab_type": "text"
      },
      "cell_type": "markdown",
      "source": [
        "#### 36. Extract the integer part of a random array using 5 different methods (★★☆) \n",
        "(**hint**: %, np.floor, np.ceil, astype, np.trunc)"
      ]
    },
    {
      "metadata": {
        "id": "pLonBTUjPCQT",
        "colab_type": "code",
        "colab": {
          "base_uri": "https://localhost:8080/",
          "height": 35
        },
        "outputId": "d97446f4-7053-438f-ec27-bbe2cf7966bb"
      },
      "cell_type": "code",
      "source": [
        "Z = np.random.uniform(0,10,10)\n",
        "Z.astype(int)\n",
        "print (np.trunc(Z))\n"
      ],
      "execution_count": 13,
      "outputs": [
        {
          "output_type": "execute_result",
          "data": {
            "text/plain": [
              "array([6, 8, 6, 3, 0, 7, 5, 0, 8, 3])"
            ]
          },
          "metadata": {
            "tags": []
          },
          "execution_count": 13
        }
      ]
    },
    {
      "metadata": {
        "id": "YFjKd9ddPCQZ",
        "colab_type": "text"
      },
      "cell_type": "markdown",
      "source": [
        "#### 37. Create a 5x5 matrix with row values ranging from 0 to 4 (★★☆) \n",
        "(**hint**: np.arange)"
      ]
    },
    {
      "metadata": {
        "id": "_yQNyxLsPCQg",
        "colab_type": "code",
        "colab": {}
      },
      "cell_type": "code",
      "source": [
        "#broadcasting"
      ],
      "execution_count": 0,
      "outputs": []
    },
    {
      "metadata": {
        "id": "3I6nVDRxPCQ0",
        "colab_type": "text"
      },
      "cell_type": "markdown",
      "source": [
        "#### 39. Create a vector of size 10 with values ranging from 0 to 1, both excluded (★★☆) \n",
        "(**hint**: np.linspace)"
      ]
    },
    {
      "metadata": {
        "id": "VUw2HjcRPCQ1",
        "colab_type": "code",
        "colab": {
          "base_uri": "https://localhost:8080/",
          "height": 35
        },
        "outputId": "851c3b19-aebc-4d09-c60f-444703615424"
      },
      "cell_type": "code",
      "source": [
        "import numpy as np\n",
        "\n",
        "Z = np.linspace(0,1,11,endpoint=True)[1:-1]\n",
        "print(Z)"
      ],
      "execution_count": 5,
      "outputs": [
        {
          "output_type": "stream",
          "text": [
            "[0.1 0.2 0.3 0.4 0.5 0.6 0.7 0.8 0.9]\n"
          ],
          "name": "stdout"
        }
      ]
    },
    {
      "metadata": {
        "id": "uy4iTBuJPCQ-",
        "colab_type": "text"
      },
      "cell_type": "markdown",
      "source": [
        "#### 40. Create a random vector of size 10 and sort it (★★☆) \n",
        "(**hint**: sort)"
      ]
    },
    {
      "metadata": {
        "id": "tpnIlPV5PCRC",
        "colab_type": "code",
        "colab": {
          "base_uri": "https://localhost:8080/",
          "height": 35
        },
        "outputId": "ba31b877-ca48-469f-e195-0d1229017b04"
      },
      "cell_type": "code",
      "source": [
        "v = np.random.randint(10,102,(1,10))\n",
        "print (v)"
      ],
      "execution_count": 43,
      "outputs": [
        {
          "output_type": "stream",
          "text": [
            "[[43 22 67 74 98 10 62 10 87 74]]\n"
          ],
          "name": "stdout"
        }
      ]
    },
    {
      "metadata": {
        "id": "wIssBr4_PCRT",
        "colab_type": "text"
      },
      "cell_type": "markdown",
      "source": [
        "#### 42. Consider two random array A and B, check if they are equal (★★☆) \n",
        "(**hint**: np.allclose, np.array\\_equal)"
      ]
    },
    {
      "metadata": {
        "id": "m3wrLY8LPCRY",
        "colab_type": "code",
        "colab": {}
      },
      "cell_type": "code",
      "source": [
        "# whats rtol and atol"
      ],
      "execution_count": 0,
      "outputs": []
    },
    {
      "metadata": {
        "id": "pQ0Iv3wmPCSC",
        "colab_type": "text"
      },
      "cell_type": "markdown",
      "source": [
        "#### 45. Create random vector of size 10 and replace the maximum value by 0 (★★☆) \n",
        "(**hint**: argmax)"
      ]
    },
    {
      "metadata": {
        "id": "mVw7vH7IPCSI",
        "colab_type": "code",
        "colab": {
          "base_uri": "https://localhost:8080/",
          "height": 35
        },
        "outputId": "8bbe6746-2657-48fa-e889-db75eaa9c7a8"
      },
      "cell_type": "code",
      "source": [
        "v = np.random.rand(10)\n",
        "v\n",
        "v.sort()\n",
        "v[-1]"
      ],
      "execution_count": 47,
      "outputs": [
        {
          "output_type": "execute_result",
          "data": {
            "text/plain": [
              "0.9399530153438614"
            ]
          },
          "metadata": {
            "tags": []
          },
          "execution_count": 47
        }
      ]
    },
    {
      "metadata": {
        "id": "G0GGknc-PCS5",
        "colab_type": "text"
      },
      "cell_type": "markdown",
      "source": [
        "####  47. Given two arrays, X and Y, construct the Cauchy matrix C (Cij =1/(xi - yj)) \n",
        "(**hint**: np.subtract.outer)"
      ]
    },
    {
      "metadata": {
        "id": "ZatRNymFPCS6",
        "colab_type": "code",
        "colab": {
          "base_uri": "https://localhost:8080/",
          "height": 377
        },
        "outputId": "647534cc-b987-4440-a010-4238603f9456"
      },
      "cell_type": "code",
      "source": [
        "a = np.random.random(10)\n",
        "a\n",
        "b = np.random.random(10)\n",
        "b\n",
        "\n",
        "c = np.subtract(a,b)\n",
        "c\n",
        "\n",
        "d= np.subtract.outer(a,b)\n",
        "d"
      ],
      "execution_count": 54,
      "outputs": [
        {
          "output_type": "execute_result",
          "data": {
            "text/plain": [
              "array([[ 0.0790225 , -0.65156649, -0.03411564, -0.18691293, -0.21905923,\n",
              "        -0.41186756,  0.13749135, -0.60016976,  0.108225  , -0.44241743],\n",
              "       [ 0.7350454 ,  0.00445642,  0.62190727,  0.46910998,  0.43696368,\n",
              "         0.24415535,  0.79351426,  0.05585315,  0.76424791,  0.21360548],\n",
              "       [ 0.42895149, -0.30163749,  0.31581336,  0.16301606,  0.13086977,\n",
              "        -0.06193856,  0.48742034, -0.25024076,  0.458154  , -0.09248843],\n",
              "       [-0.06758997, -0.79817896, -0.18072811, -0.3335254 , -0.3656717 ,\n",
              "        -0.55848002, -0.00912112, -0.74678222, -0.03838747, -0.5890299 ],\n",
              "       [-0.09703408, -0.82762306, -0.21017221, -0.36296951, -0.3951158 ,\n",
              "        -0.58792413, -0.03856523, -0.77622633, -0.06783157, -0.61847401],\n",
              "       [-0.12591684, -0.85650582, -0.23905497, -0.39185227, -0.42399856,\n",
              "        -0.61680689, -0.06744799, -0.80510909, -0.09671433, -0.64735677],\n",
              "       [ 0.50354792, -0.22704106,  0.39040978,  0.23761249,  0.20546619,\n",
              "         0.01265787,  0.56201677, -0.17564433,  0.53275043, -0.01789201],\n",
              "       [ 0.49995971, -0.23062928,  0.38682157,  0.23402428,  0.20187798,\n",
              "         0.00906965,  0.55842856, -0.17923255,  0.52916221, -0.02148022],\n",
              "       [ 0.53006909, -0.20051989,  0.41693095,  0.26413366,  0.23198737,\n",
              "         0.03917904,  0.58853794, -0.14912316,  0.5592716 ,  0.00862916],\n",
              "       [ 0.34788104, -0.38270794,  0.23474291,  0.08194562,  0.04979932,\n",
              "        -0.14300901,  0.4063499 , -0.33131121,  0.37708355, -0.17355888]])"
            ]
          },
          "metadata": {
            "tags": []
          },
          "execution_count": 54
        }
      ]
    },
    {
      "metadata": {
        "id": "8pdKFvq4PCVx",
        "colab_type": "text"
      },
      "cell_type": "markdown",
      "source": [
        "#### 55. What is the equivalent of enumerate for numpy arrays? (★★☆) \n",
        "(**hint**: np.ndenumerate, np.ndindex)"
      ]
    },
    {
      "metadata": {
        "id": "JAuFKoPgPCVy",
        "colab_type": "code",
        "colab": {
          "base_uri": "https://localhost:8080/",
          "height": 197
        },
        "outputId": "da8e0325-f334-4c41-80c2-61895c68f680"
      },
      "cell_type": "code",
      "source": [
        "for i,j in enumerate(np.arange(10)):\n",
        "  print (i,j)"
      ],
      "execution_count": 12,
      "outputs": [
        {
          "output_type": "stream",
          "text": [
            "0 0\n",
            "1 1\n",
            "2 2\n",
            "3 3\n",
            "4 4\n",
            "5 5\n",
            "6 6\n",
            "7 7\n",
            "8 8\n",
            "9 9\n"
          ],
          "name": "stdout"
        }
      ]
    },
    {
      "metadata": {
        "id": "rPAhFNSPPCXU",
        "colab_type": "text"
      },
      "cell_type": "markdown",
      "source": [
        "#### 58. Subtract the mean of each row of a matrix (★★☆) \n",
        "(**hint**: mean(axis=,keepdims=))"
      ]
    },
    {
      "metadata": {
        "id": "Zw1_seFvPCXX",
        "colab_type": "code",
        "colab": {}
      },
      "cell_type": "code",
      "source": [
        ""
      ],
      "execution_count": 0,
      "outputs": []
    },
    {
      "metadata": {
        "id": "VMSOFGnpPCXY",
        "colab_type": "text"
      },
      "cell_type": "markdown",
      "source": [
        "#### 59. How to sort an array by the nth column? (★★☆) \n",
        "(**hint**: argsort)"
      ]
    },
    {
      "metadata": {
        "id": "tHYE7WFTPCXZ",
        "colab_type": "code",
        "colab": {}
      },
      "cell_type": "code",
      "source": [
        ""
      ],
      "execution_count": 0,
      "outputs": []
    },
    {
      "metadata": {
        "id": "p70r1_UpPCbY",
        "colab_type": "text"
      },
      "cell_type": "markdown",
      "source": [
        "#### 69. How to get the diagonal of a dot product? (★★★) \n",
        "(**hint**: np.diag)"
      ]
    },
    {
      "metadata": {
        "id": "kmmNgk5qPCbY",
        "colab_type": "code",
        "colab": {}
      },
      "cell_type": "code",
      "source": [
        ""
      ],
      "execution_count": 0,
      "outputs": []
    },
    {
      "metadata": {
        "id": "yhpTuyTQPCb-",
        "colab_type": "text"
      },
      "cell_type": "markdown",
      "source": [
        "#### 71. Consider an array of dimension (5,5,3), how to mulitply it by an array with dimensions (5,5)? (★★★) \n",
        "(**hint**: array\\[:, :, None\\])"
      ]
    },
    {
      "metadata": {
        "id": "Lj03uC3WPCcA",
        "colab_type": "code",
        "colab": {
          "base_uri": "https://localhost:8080/",
          "height": 539
        },
        "outputId": "9cb3addc-2c74-4d7e-fdce-27dd6a0b0d6d"
      },
      "cell_type": "code",
      "source": [
        "A = np.ones((5,5,3))\n",
        "B = 2*np.ones((5,5))\n",
        "print(A * B[:,:,None])"
      ],
      "execution_count": 27,
      "outputs": [
        {
          "output_type": "stream",
          "text": [
            "[[[2. 2. 2.]\n",
            "  [2. 2. 2.]\n",
            "  [2. 2. 2.]\n",
            "  [2. 2. 2.]\n",
            "  [2. 2. 2.]]\n",
            "\n",
            " [[2. 2. 2.]\n",
            "  [2. 2. 2.]\n",
            "  [2. 2. 2.]\n",
            "  [2. 2. 2.]\n",
            "  [2. 2. 2.]]\n",
            "\n",
            " [[2. 2. 2.]\n",
            "  [2. 2. 2.]\n",
            "  [2. 2. 2.]\n",
            "  [2. 2. 2.]\n",
            "  [2. 2. 2.]]\n",
            "\n",
            " [[2. 2. 2.]\n",
            "  [2. 2. 2.]\n",
            "  [2. 2. 2.]\n",
            "  [2. 2. 2.]\n",
            "  [2. 2. 2.]]\n",
            "\n",
            " [[2. 2. 2.]\n",
            "  [2. 2. 2.]\n",
            "  [2. 2. 2.]\n",
            "  [2. 2. 2.]\n",
            "  [2. 2. 2.]]]\n"
          ],
          "name": "stdout"
        }
      ]
    },
    {
      "metadata": {
        "id": "O-9UtQgLPCcY",
        "colab_type": "text"
      },
      "cell_type": "markdown",
      "source": [
        "#### 72. How to swap two rows of an array? (★★★) \n",
        "(**hint**: array\\[\\[\\]\\] = array\\[\\[\\]\\])"
      ]
    },
    {
      "metadata": {
        "id": "ebB8WCVSPCcZ",
        "colab_type": "code",
        "colab": {}
      },
      "cell_type": "code",
      "source": [
        ""
      ],
      "execution_count": 0,
      "outputs": []
    },
    {
      "metadata": {
        "id": "PowwEzCIPCfg",
        "colab_type": "text"
      },
      "cell_type": "markdown",
      "source": [
        "#### 83. How to find the most frequent value in an array? \n",
        "(**hint**: np.bincount, argmax)"
      ]
    },
    {
      "metadata": {
        "id": "oQUGAp0sPCfj",
        "colab_type": "code",
        "colab": {
          "base_uri": "https://localhost:8080/",
          "height": 35
        },
        "outputId": "b1fb5b19-a47d-4746-904d-28cfaee4585b"
      },
      "cell_type": "code",
      "source": [
        "Z = np.random.randint(0,10,50)\n",
        "np.bincount(Z)\n",
        "#print(np.bincount(Z).argmax())"
      ],
      "execution_count": 26,
      "outputs": [
        {
          "output_type": "execute_result",
          "data": {
            "text/plain": [
              "array([5, 3, 7, 6, 1, 2, 8, 8, 5, 5])"
            ]
          },
          "metadata": {
            "tags": []
          },
          "execution_count": 26
        }
      ]
    },
    {
      "metadata": {
        "id": "IjntcFpigpIw",
        "colab_type": "code",
        "colab": {}
      },
      "cell_type": "code",
      "source": [
        ""
      ],
      "execution_count": 0,
      "outputs": []
    }
  ]
}
